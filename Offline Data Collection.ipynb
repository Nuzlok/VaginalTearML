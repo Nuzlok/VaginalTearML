{
 "cells": [
  {
   "cell_type": "code",
   "execution_count": 1,
   "id": "55305976",
   "metadata": {},
   "outputs": [],
   "source": [
    "import tensorflow as tf\n",
    "import numpy as np\n",
    "import pandas as pd\n",
    "import math\n",
    "import time\n",
    "from matplotlib import pyplot as plt"
   ]
  },
  {
   "cell_type": "code",
   "execution_count": 2,
   "id": "97d14f48",
   "metadata": {},
   "outputs": [],
   "source": [
    "# Initialize Global Variables\n",
    "\n",
    "NUM_MODELS = 10"
   ]
  },
  {
   "cell_type": "code",
   "execution_count": 3,
   "id": "706d4064",
   "metadata": {},
   "outputs": [],
   "source": [
    "# Initialize Dataset\n",
    "\n",
    "# Read .csv files for training\n",
    "\n",
    "xdata = pd.read_csv('ML_inputs_tear.csv')\n",
    "ydata = pd.read_csv('U_tear.csv').T\n",
    "\n",
    "# Adding Constant Parameters to xdata\n",
    "xdata.insert(0, 'c', 6)\n",
    "xdata.insert(1, 'D', .05)\n",
    "xdata.insert(2, 'k1', 15)\n",
    "xdata.insert(3, 'k2', 15)\n",
    "xdata.insert(4, 'N', 2)\n",
    "xdata.insert(5, 'kappa_1', .25)\n",
    "xdata.insert(6, 'kappa_2', .25)\n",
    "xdata.insert(7, 'kappa_3', .25)\n",
    "\n",
    "# Switch to numpy array\n",
    "x = xdata.to_numpy()\n",
    "y = ydata.to_numpy()\n"
   ]
  },
  {
   "cell_type": "code",
   "execution_count": 4,
   "id": "017986d7",
   "metadata": {},
   "outputs": [],
   "source": [
    "# Import Models\n",
    "\n",
    "annmodels = []\n",
    "\n",
    "for i in range(NUM_MODELS):\n",
    "    annmodels.append(tf.keras.models.load_model('model' + str(i) + '.h5'))"
   ]
  },
  {
   "cell_type": "code",
   "execution_count": 5,
   "id": "0c6dcb1f",
   "metadata": {},
   "outputs": [],
   "source": [
    "# Timing Calculations\n",
    "modelTime = []\n",
    "\n",
    "for model in annmodels:\n",
    "    \n",
    "    # Perform 50 timed predictions, average result\n",
    "    tmpTime = []\n",
    "    for i in range(50):\n",
    "        start = time.time()\n",
    "        model.predict(x)\n",
    "        end = time.time()\n",
    "        tmpTime.append(end - start)\n",
    "        \n",
    "    modelTime.append(np.mean(tmpTime))"
   ]
  },
  {
   "cell_type": "code",
   "execution_count": 6,
   "id": "27f6ffcb",
   "metadata": {},
   "outputs": [],
   "source": [
    "# Error Calculations\n",
    "modelError = []\n",
    "\n",
    "for model in annmodels:\n",
    "    # find the relative frobenius error of the prediction\n",
    "    pred = model.predict(x)\n",
    "    \n",
    "    toterr = 0\n",
    "    for i in range(len(x)):\n",
    "        Norm1 = np.linalg.norm(y[i] - pred[i], 2)\n",
    "        Norm2 = np.linalg.norm(pred[i], 2)\n",
    "        toterr = toterr + ((Norm1**2)/(Norm2**2))\n",
    "        \n",
    "    modelError.append(math.sqrt(toterr))"
   ]
  },
  {
   "cell_type": "code",
   "execution_count": 8,
   "id": "0ae874ca",
   "metadata": {},
   "outputs": [
    {
     "data": {
      "text/html": [
       "<div>\n",
       "<style scoped>\n",
       "    .dataframe tbody tr th:only-of-type {\n",
       "        vertical-align: middle;\n",
       "    }\n",
       "\n",
       "    .dataframe tbody tr th {\n",
       "        vertical-align: top;\n",
       "    }\n",
       "\n",
       "    .dataframe thead th {\n",
       "        text-align: right;\n",
       "    }\n",
       "</style>\n",
       "<table border=\"1\" class=\"dataframe\">\n",
       "  <thead>\n",
       "    <tr style=\"text-align: right;\">\n",
       "      <th></th>\n",
       "      <th>online time</th>\n",
       "      <th>offline time</th>\n",
       "      <th>error</th>\n",
       "    </tr>\n",
       "  </thead>\n",
       "  <tbody>\n",
       "    <tr>\n",
       "      <th>0</th>\n",
       "      <td>7.276224</td>\n",
       "      <td>0.048223</td>\n",
       "      <td>0.135837</td>\n",
       "    </tr>\n",
       "    <tr>\n",
       "      <th>1</th>\n",
       "      <td>5.599475</td>\n",
       "      <td>0.034671</td>\n",
       "      <td>0.062366</td>\n",
       "    </tr>\n",
       "    <tr>\n",
       "      <th>2</th>\n",
       "      <td>5.592500</td>\n",
       "      <td>0.035692</td>\n",
       "      <td>0.072565</td>\n",
       "    </tr>\n",
       "    <tr>\n",
       "      <th>3</th>\n",
       "      <td>5.595942</td>\n",
       "      <td>0.034637</td>\n",
       "      <td>0.077484</td>\n",
       "    </tr>\n",
       "    <tr>\n",
       "      <th>4</th>\n",
       "      <td>5.709719</td>\n",
       "      <td>0.035693</td>\n",
       "      <td>0.103360</td>\n",
       "    </tr>\n",
       "    <tr>\n",
       "      <th>5</th>\n",
       "      <td>5.478569</td>\n",
       "      <td>0.036794</td>\n",
       "      <td>0.078452</td>\n",
       "    </tr>\n",
       "    <tr>\n",
       "      <th>6</th>\n",
       "      <td>5.456630</td>\n",
       "      <td>0.035850</td>\n",
       "      <td>0.086418</td>\n",
       "    </tr>\n",
       "    <tr>\n",
       "      <th>7</th>\n",
       "      <td>5.810365</td>\n",
       "      <td>0.039960</td>\n",
       "      <td>0.065731</td>\n",
       "    </tr>\n",
       "    <tr>\n",
       "      <th>8</th>\n",
       "      <td>6.055452</td>\n",
       "      <td>0.036042</td>\n",
       "      <td>0.169024</td>\n",
       "    </tr>\n",
       "    <tr>\n",
       "      <th>9</th>\n",
       "      <td>5.873522</td>\n",
       "      <td>0.035463</td>\n",
       "      <td>0.149312</td>\n",
       "    </tr>\n",
       "  </tbody>\n",
       "</table>\n",
       "</div>"
      ],
      "text/plain": [
       "   online time  offline time     error\n",
       "0     7.276224      0.048223  0.135837\n",
       "1     5.599475      0.034671  0.062366\n",
       "2     5.592500      0.035692  0.072565\n",
       "3     5.595942      0.034637  0.077484\n",
       "4     5.709719      0.035693  0.103360\n",
       "5     5.478569      0.036794  0.078452\n",
       "6     5.456630      0.035850  0.086418\n",
       "7     5.810365      0.039960  0.065731\n",
       "8     6.055452      0.036042  0.169024\n",
       "9     5.873522      0.035463  0.149312"
      ]
     },
     "execution_count": 8,
     "metadata": {},
     "output_type": "execute_result"
    }
   ],
   "source": [
    "export = pd.DataFrame({'offline time': modelTime, 'error': modelError})\n",
    "onlineTime = pd.read_csv('onlineTime.csv')\n",
    "\n",
    "export = pd.concat((onlineTime, export), axis = 1)\n",
    "export.to_csv('MLModelData.csv', encoding = 'utf-8', index=False)\n",
    "export"
   ]
  },
  {
   "cell_type": "code",
   "execution_count": null,
   "id": "1be0cbae",
   "metadata": {},
   "outputs": [],
   "source": []
  }
 ],
 "metadata": {
  "kernelspec": {
   "display_name": "Python 3.9.12 ('ML')",
   "language": "python",
   "name": "python3"
  },
  "language_info": {
   "codemirror_mode": {
    "name": "ipython",
    "version": 3
   },
   "file_extension": ".py",
   "mimetype": "text/x-python",
   "name": "python",
   "nbconvert_exporter": "python",
   "pygments_lexer": "ipython3",
   "version": "3.9.12"
  },
  "vscode": {
   "interpreter": {
    "hash": "d8c0973b80bd5a592e8ef52779d6e6e75341cbc2022625792d5dd473469eae2f"
   }
  }
 },
 "nbformat": 4,
 "nbformat_minor": 5
}
